{
  "cells": [
    {
      "cell_type": "markdown",
      "metadata": {
        "id": "view-in-github",
        "colab_type": "text"
      },
      "source": [
        "<a href=\"https://colab.research.google.com/github/dimashaheen/Spectral-Cluster-implemtation/blob/main/Final_ass.ipynb\" target=\"_parent\"><img src=\"https://colab.research.google.com/assets/colab-badge.svg\" alt=\"Open In Colab\"/></a>"
      ]
    },
    {
      "cell_type": "code",
      "execution_count": null,
      "metadata": {
        "id": "_HRWncQDKOhD"
      },
      "outputs": [],
      "source": [
        "import numpy as np\n",
        "from numpy.linalg import eig\n",
        "from sklearn.metrics import accuracy_score\n",
        "import matplotlib.pyplot as plt\n",
        "import math\n",
        "from numpy import linalg"
      ]
    },
    {
      "cell_type": "code",
      "execution_count": null,
      "metadata": {
        "colab": {
          "base_uri": "https://localhost:8080/"
        },
        "id": "c-E5un8zKS_G",
        "outputId": "3a01dbd2-0fe6-4f51-f97c-dfaf10a0dc1d"
      },
      "outputs": [
        {
          "output_type": "execute_result",
          "data": {
            "text/plain": [
              "array([[ 9.8323  , -0.1749  ],\n",
              "       [ 9.792   , -0.045816],\n",
              "       [10.535   ,  0.70435 ],\n",
              "       ...,\n",
              "       [11.2     ,  0.08    ],\n",
              "       [11.2     ,  0.09    ],\n",
              "       [11.2     ,  0.1     ]])"
            ]
          },
          "metadata": {},
          "execution_count": 41
        }
      ],
      "source": [
        "pts = []\n",
        "with open('SpectData.txt', \"r\") as file:\n",
        "    for readline in file:\n",
        "        line_strip = readline.strip() \n",
        "        point = line_strip.split('\\t') \n",
        "        pts.append(point)\n",
        "data = np.array(pts)   \n",
        "data=data.astype(float)\n",
        "data"
      ]
    },
    {
      "cell_type": "code",
      "execution_count": null,
      "metadata": {
        "colab": {
          "base_uri": "https://localhost:8080/",
          "height": 265
        },
        "id": "sGtCKq9VKS8h",
        "outputId": "d96a3380-f4f6-43d5-e3f8-a3bdf0334e75"
      },
      "outputs": [
        {
          "output_type": "display_data",
          "data": {
            "text/plain": [
              "<Figure size 432x288 with 1 Axes>"
            ],
            "image/png": "[encoded data removed]"
          },
          "metadata": {
            "needs_background": "light"
          }
        }
      ],
      "source": [
        "plt.scatter(data[:,0], data[:,1])\n",
        "plt.show()"
      ]
    },
    {
      "cell_type": "code",
      "execution_count": null,
      "metadata": {
        "colab": {
          "base_uri": "https://localhost:8080/"
        },
        "id": "31LLfOQ4hv2l",
        "outputId": "5c9b6dab-8be6-4b13-ff82-5da6feca1f28"
      },
      "outputs": [
        {
          "output_type": "stream",
          "name": "stdout",
          "text": [
            "[10.49971742 -0.01608767]\n"
          ]
        }
      ],
      "source": [
        "#accurate labels\n",
        "#get mean as coordinates\n",
        "xmean= data[:,0].mean()\n",
        "ymean= data[:,1].mean()\n",
        "mean=[]\n",
        "mean.append(xmean)\n",
        "mean.append(ymean)\n",
        "mean=np.array(mean)\n",
        "\n",
        "#calculate distance between points an mean assign data labels\n",
        "labelAccurate=np.zeros(2084)\n",
        "for i in range (0,len(data)):\n",
        "  dist = np.linalg.norm(data[i,:]-mean)\n",
        "  if(dist<0.55):\n",
        "    labelAccurate[i]=0\n",
        "  else:\n",
        "    labelAccurate[i]=1\n",
        "labelAccurate\n",
        "print(mean)"
      ]
    },
    {
      "cell_type": "markdown",
      "metadata": {
        "id": "E80eZT357bIw"
      },
      "source": [
        "#Spectral Clustering data1"
      ]
    },
    {
      "cell_type": "code",
      "execution_count": null,
      "metadata": {
        "id": "u2RSEdHTKS6K"
      },
      "outputs": [],
      "source": [
        "sigma=np.arange(0.01,1.01,0.01)"
      ]
    },
    {
      "cell_type": "code",
      "execution_count": null,
      "metadata": {
        "id": "bfuwbkSwKS3j"
      },
      "outputs": [],
      "source": [
        "#D and W matrix\n",
        "def weight(data1, data2, si):\n",
        "    wij = math.exp(-linalg.norm(data1-data2)**2/(2*(si**2)))\n",
        "    return wij\n",
        "     \n",
        "def buildLMatrix(dataN,s):\n",
        "    nData = 2084\n",
        "    wMat = np.zeros((2084,2084))\n",
        "    for i in range(0,nData):\n",
        "        for j in range(0, nData):\n",
        "            wij = weight(dataN[i, :], dataN[j, :], sigma[s])\n",
        "            wMat[i][j] = wij\n",
        "\n",
        "        diag = np.array(wMat.sum(axis=1)).ravel()\n",
        "        dMat = np.diag(diag)  \n",
        "    #to get lMat       \n",
        "    lMat = dMat - wMat\n",
        "    return lMat"
      ]
    },
    {
      "cell_type": "code",
      "execution_count": null,
      "metadata": {
        "id": "g_HYlt03V5Jx"
      },
      "outputs": [],
      "source": [
        "def accuracy(dataI,s):\n",
        "    #create matrix\n",
        "    lMat = buildLMatrix(dataI,s)\n",
        "    #get eigenvalue and eigenvector\n",
        "    value,vector=eig(lMat)\n",
        "    smallest=max(value)\n",
        "    sec_smallest=max(value)\n",
        "    Eigen=np.zeros(len(value))\n",
        "    x=0 \n",
        "    y=0\n",
        "    for i in range(value.size):\n",
        "        if(value[i]<smallest):\n",
        "            x=y\n",
        "            sec_smallest=smallest\n",
        "            smallest=value[i]\n",
        "            y=i\n",
        "        elif(value[i]<sec_smallest):\n",
        "            sec_smallest=value[i]\n",
        "            x=i\n",
        "    for i in range(len(value)):\n",
        "        Eigen[i]=vector[i][x]\n",
        "\n",
        "    #labels for spectral\n",
        "    spec_labels=np.zeros(2084)\n",
        "\n",
        "    for i in range(0,2084):\n",
        "        if (Eigen[i]<0):\n",
        "            spec_labels[i]=0\n",
        "        else:\n",
        "            spec_labels[i]=1\n",
        "    Acc=accuracy_score(labelAccurate,spec_labels)\n",
        "    print(Acc)\n",
        "    return Acc"
      ]
    },
    {
      "cell_type": "code",
      "execution_count": null,
      "metadata": {
        "colab": {
          "base_uri": "https://localhost:8080/"
        },
        "id": "AKVMvYIs-JKG",
        "outputId": "fa5d6433-0f33-4526-bbf4-8385e92b5a4a"
      },
      "outputs": [
        {
          "output_type": "stream",
          "name": "stdout",
          "text": [
            "0.41554702495201534\n",
            "0.5844529750479847\n",
            "1.0\n",
            "0.0\n",
            "1.0\n",
            "0.5115163147792706\n",
            "0.4894433781190019\n",
            "0.5076775431861804\n",
            "0.5067178502879078\n",
            "0.5057581573896354\n",
            "0.494721689059501\n",
            "0.4952015355086372\n",
            "0.4952015355086372\n",
            "0.4952015355086372\n",
            "0.5047984644913628\n",
            "0.4956813819577735\n",
            "0.4956813819577735\n",
            "0.4961612284069098\n",
            "0.4961612284069098\n",
            "0.4961612284069098\n",
            "0.4961612284069098\n",
            "0.4961612284069098\n",
            "0.4961612284069098\n",
            "0.4961612284069098\n",
            "0.5038387715930902\n",
            "0.4961612284069098\n",
            "0.4961612284069098\n",
            "0.5038387715930902\n",
            "0.5038387715930902\n",
            "0.5038387715930902\n",
            "0.5038387715930902\n",
            "0.5038387715930902\n",
            "0.5043186180422264\n",
            "0.5043186180422264\n",
            "0.5043186180422264\n",
            "0.5043186180422264\n",
            "0.5043186180422264\n",
            "0.5047984644913628\n",
            "0.5047984644913628\n",
            "0.5047984644913628\n",
            "0.5047984644913628\n",
            "0.5047984644913628\n",
            "0.5043186180422264\n",
            "0.5043186180422264\n",
            "0.5043186180422264\n",
            "0.4956813819577735\n",
            "0.4956813819577735\n",
            "0.5043186180422264\n",
            "0.4952015355086372\n",
            "0.505278310940499\n",
            "0.5047984644913628\n",
            "0.5047984644913628\n",
            "0.5047984644913628\n",
            "0.5043186180422264\n",
            "0.5043186180422264\n",
            "0.5043186180422264\n",
            "0.4956813819577735\n",
            "0.4956813819577735\n",
            "0.4961612284069098\n",
            "0.4961612284069098\n",
            "0.5038387715930902\n",
            "0.4961612284069098\n",
            "0.5038387715930902\n",
            "0.5038387715930902\n",
            "0.4961612284069098\n",
            "0.4961612284069098\n",
            "0.5038387715930902\n",
            "0.5038387715930902\n",
            "0.4961612284069098\n",
            "0.4961612284069098\n",
            "0.5038387715930902\n",
            "0.503358925143954\n",
            "0.4966410748560461\n",
            "0.503358925143954\n",
            "0.503358925143954\n",
            "0.4966410748560461\n",
            "0.4966410748560461\n",
            "0.4966410748560461\n",
            "0.4966410748560461\n",
            "0.503358925143954\n",
            "0.503358925143954\n",
            "0.503358925143954\n",
            "0.503358925143954\n",
            "0.4966410748560461\n",
            "0.4966410748560461\n",
            "0.4966410748560461\n",
            "0.4966410748560461\n",
            "0.4966410748560461\n",
            "0.503358925143954\n",
            "0.503358925143954\n",
            "0.503358925143954\n",
            "0.503358925143954\n",
            "0.503358925143954\n",
            "0.503358925143954\n",
            "0.4966410748560461\n",
            "0.4966410748560461\n",
            "0.4966410748560461\n",
            "0.4971209213051823\n",
            "0.4971209213051823\n",
            "0.4966410748560461\n"
          ]
        }
      ],
      "source": [
        "accuracies=np.zeros(100)\n",
        "for i in range(0,100):\n",
        "    accuracies[i]=accuracy(data,i)"
      ]
    },
    {
      "cell_type": "code",
      "execution_count": null,
      "metadata": {
        "colab": {
          "base_uri": "https://localhost:8080/",
          "height": 295
        },
        "id": "vQg71-0Q7P26",
        "outputId": "57076f6b-3f78-4390-a0be-f969f3c0b28b"
      },
      "outputs": [
        {
          "output_type": "display_data",
          "data": {
            "text/plain": [
              "<Figure size 432x288 with 1 Axes>"
            ],
            "image/png": "[encoded data removed]"
          },
          "metadata": {
            "needs_background": "light"
          }
        }
      ],
      "source": [
        "plt.scatter(sigma,accuracies,c='magenta')\n",
        "plt.title('Spectral_data1 plot')\n",
        "plt.xlabel(\"sigma\")\n",
        "plt.ylabel(\"accuracies\")\n",
        "plt.show()"
      ]
    },
    {
      "cell_type": "markdown",
      "metadata": {
        "id": "Sm2mwudZ7f8C"
      },
      "source": [
        "#Kmeans Clustering"
      ]
    },
    {
      "cell_type": "code",
      "execution_count": null,
      "metadata": {
        "colab": {
          "base_uri": "https://localhost:8080/"
        },
        "id": "3Z9ZC4uUditK",
        "outputId": "7a615bfc-f9ab-4e39-97c7-c4afbdf7eb54"
      },
      "outputs": [
        {
          "output_type": "execute_result",
          "data": {
            "text/plain": [
              "array([0, 0, 1, ..., 1, 1, 1], dtype=int32)"
            ]
          },
          "metadata": {},
          "execution_count": 62
        }
      ],
      "source": [
        "from sklearn.cluster import KMeans\n",
        "kMeans=KMeans(n_clusters=2,init='k-means++')\n",
        "ykMeans=kMeans.fit_predict(data)\n",
        "ykMeans"
      ]
    },
    {
      "cell_type": "code",
      "execution_count": null,
      "metadata": {
        "colab": {
          "base_uri": "https://localhost:8080/",
          "height": 281
        },
        "id": "OWn9oqZFUbds",
        "outputId": "03145bdf-f18e-45bd-86a7-e27b62d34831"
      },
      "outputs": [
        {
          "output_type": "display_data",
          "data": {
            "text/plain": [
              "<Figure size 432x288 with 1 Axes>"
            ],
            "image/png": "[encoded data removed]"
          },
          "metadata": {
            "needs_background": "light"
          }
        }
      ],
      "source": [
        "plt.scatter(data[ykMeans==0,0],data[ykMeans==0,1],s=100,c='magenta',label='Cluster1')\n",
        "plt.scatter(data[ykMeans==1,0],data[ykMeans==1,1],s=100,c='yellow',label='Cluster2')\n",
        "plt.scatter(kMeans.cluster_centers_[:,0],kMeans.cluster_centers_[:,1],s=300,c='blue',label='Centroids')\n",
        "plt.title('KMean plot')\n",
        "plt.show()"
      ]
    },
    {
      "cell_type": "markdown",
      "metadata": {
        "id": "GuAZCT5Y73Of"
      },
      "source": [
        "#Spectral Clustering Data2\n"
      ]
    },
    {
      "cell_type": "code",
      "execution_count": null,
      "metadata": {
        "colab": {
          "base_uri": "https://localhost:8080/"
        },
        "id": "QnPQXj5XUbbV",
        "outputId": "d600a420-2054-4a16-b008-1977b74d0aaf"
      },
      "outputs": [
        {
          "output_type": "execute_result",
          "data": {
            "text/plain": [
              "array([[10.484  ,  0.49595],\n",
              "       [10.391  ,  1.001  ],\n",
              "       [10.034  , -0.20092],\n",
              "       ...,\n",
              "       [11.5    ,  0.08   ],\n",
              "       [11.5    ,  0.09   ],\n",
              "       [11.5    ,  0.1    ]])"
            ]
          },
          "metadata": {},
          "execution_count": 72
        }
      ],
      "source": [
        "pts = []\n",
        "with open('SpectData2.txt', \"r\") as file:\n",
        "    for readline in file:\n",
        "        line_strip = readline.strip() \n",
        "        point = line_strip.split('\\t') \n",
        "        pts.append(point)\n",
        "data2 = np.array(pts)   \n",
        "data2=data2.astype(float)\n",
        "data2"
      ]
    },
    {
      "cell_type": "code",
      "execution_count": null,
      "metadata": {
        "colab": {
          "base_uri": "https://localhost:8080/"
        },
        "id": "WAkimy6f-Xd5",
        "outputId": "8db08a9a-f689-4a25-9ce9-86b928b57530"
      },
      "outputs": [
        {
          "output_type": "stream",
          "name": "stdout",
          "text": [
            "0.5460652591170825\n",
            "0.5460652591170825\n",
            "0.5844529750479847\n",
            "0.5844529750479847\n",
            "0.45393474088291746\n",
            "0.45393474088291746\n",
            "0.5460652591170825\n",
            "0.45393474088291746\n",
            "0.5460652591170825\n",
            "0.45393474088291746\n",
            "0.45393474088291746\n",
            "0.45393474088291746\n",
            "0.45393474088291746\n",
            "0.5110364683301344\n",
            "0.494721689059501\n",
            "0.5028790786948176\n",
            "0.4985604606525912\n",
            "0.4990403071017274\n",
            "0.4985604606525912\n",
            "0.4985604606525912\n",
            "0.4985604606525912\n",
            "0.4985604606525912\n",
            "0.4980806142034549\n",
            "0.5019193857965452\n",
            "0.5014395393474088\n",
            "0.4976007677543186\n",
            "0.5023992322456814\n",
            "0.4966410748560461\n",
            "0.503358925143954\n",
            "0.503358925143954\n",
            "0.4966410748560461\n",
            "0.503358925143954\n",
            "0.5028790786948176\n",
            "0.503358925143954\n",
            "0.503358925143954\n",
            "0.503358925143954\n",
            "0.503358925143954\n",
            "0.4961612284069098\n",
            "0.5038387715930902\n",
            "0.503358925143954\n",
            "0.4966410748560461\n",
            "0.4966410748560461\n",
            "0.5038387715930902\n",
            "0.4961612284069098\n",
            "0.5038387715930902\n",
            "0.4961612284069098\n",
            "0.503358925143954\n",
            "0.503358925143954\n",
            "0.5028790786948176\n",
            "0.5028790786948176\n",
            "0.5028790786948176\n",
            "0.5028790786948176\n",
            "0.5028790786948176\n",
            "0.5028790786948176\n",
            "0.4976007677543186\n",
            "0.5023992322456814\n",
            "0.5023992322456814\n",
            "0.5023992322456814\n",
            "0.5023992322456814\n",
            "0.5023992322456814\n",
            "0.4976007677543186\n",
            "0.5023992322456814\n",
            "0.4976007677543186\n",
            "0.5023992322456814\n",
            "0.5023992322456814\n",
            "0.4976007677543186\n",
            "0.5019193857965452\n",
            "0.4980806142034549\n",
            "0.4980806142034549\n",
            "0.5019193857965452\n",
            "0.4980806142034549\n",
            "0.5019193857965452\n",
            "0.5019193857965452\n",
            "0.4980806142034549\n",
            "0.5019193857965452\n",
            "0.5019193857965452\n",
            "0.4980806142034549\n",
            "0.5019193857965452\n",
            "0.4980806142034549\n",
            "0.5019193857965452\n",
            "0.4980806142034549\n",
            "0.4980806142034549\n",
            "0.5019193857965452\n",
            "0.4980806142034549\n",
            "0.5019193857965452\n",
            "0.5019193857965452\n",
            "0.4980806142034549\n",
            "0.5019193857965452\n",
            "0.4980806142034549\n",
            "0.4980806142034549\n",
            "0.5019193857965452\n",
            "0.4980806142034549\n",
            "0.5019193857965452\n",
            "0.4980806142034549\n",
            "0.5019193857965452\n",
            "0.5019193857965452\n",
            "0.5019193857965452\n",
            "0.5019193857965452\n",
            "0.4980806142034549\n",
            "0.5019193857965452\n"
          ]
        }
      ],
      "source": [
        "accuraciesSpec2=np.zeros(100)\n",
        "for i in range(0,100):\n",
        "    accuraciesSpec2[i]=accuracy(data2,i)"
      ]
    },
    {
      "cell_type": "code",
      "execution_count": null,
      "metadata": {
        "id": "zPmqUJyO8On4",
        "colab": {
          "base_uri": "https://localhost:8080/",
          "height": 295
        },
        "outputId": "36ab2a6e-155b-495f-9caf-097bf00d6d07"
      },
      "outputs": [
        {
          "output_type": "display_data",
          "data": {
            "text/plain": [
              "<Figure size 432x288 with 1 Axes>"
            ],
            "image/png": "[encoded data removed]"
          },
          "metadata": {
            "needs_background": "light"
          }
        }
      ],
      "source": [
        "plt.scatter(sigma,accuraciesSpec2,c='magenta')\n",
        "plt.ylim(0,1)\n",
        "plt.title('Spectral_data2 plot')\n",
        "plt.xlabel(\"sigma\")\n",
        "plt.ylabel(\"accuracies\")\n",
        "plt.show()"
      ]
    }
  ],
  "metadata": {
    "colab": {
      "collapsed_sections": [],
      "name": "Final ass.ipynb",
      "provenance": [],
      "authorship_tag": "ABX9TyM7UY4SHnX9Jo2A1KWFe2mv",
      "include_colab_link": true
    },
    "kernelspec": {
      "display_name": "Python 3",
      "name": "python3"
    },
    "language_info": {
      "name": "python"
    }
  },
  "nbformat": 4,
  "nbformat_minor": 0
}